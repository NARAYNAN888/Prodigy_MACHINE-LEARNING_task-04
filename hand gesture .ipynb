{
 "cells": [
  {
   "cell_type": "markdown",
   "id": "5f5069c1",
   "metadata": {},
   "source": [
    "# Develop a hand gesture recognition model that can accurately identify and classify different hand gestures from image or video data, enabling intuitive human-computer interaction and gesture-based control systems."
   ]
  },
  {
   "cell_type": "markdown",
   "id": "edef6994",
   "metadata": {},
   "source": [
    "# INSTALL REQUIRED PACKAGE"
   ]
  },
  {
   "cell_type": "markdown",
   "id": "67c1e4f1",
   "metadata": {},
   "source": [
    "# Dataset :-  https://www.kaggle.com/gti-upm/leapgestrecog"
   ]
  },
  {
   "cell_type": "code",
   "execution_count": 1,
   "id": "98a01dc8",
   "metadata": {},
   "outputs": [
    {
     "name": "stdout",
     "output_type": "stream",
     "text": [
      "Defaulting to user installation because normal site-packages is not writeable\n",
      "Requirement already satisfied: opencv-python in c:\\users\\gnara\\appdata\\roaming\\python\\python310\\site-packages (4.8.0.74)\n",
      "Requirement already satisfied: numpy>=1.21.2 in c:\\programdata\\anaconda3\\lib\\site-packages (from opencv-python) (1.23.5)\n",
      "Note: you may need to restart the kernel to use updated packages.\n"
     ]
    }
   ],
   "source": [
    "pip install opencv-python"
   ]
  },
  {
   "cell_type": "code",
   "execution_count": 2,
   "id": "da5ae138",
   "metadata": {},
   "outputs": [
    {
     "name": "stdout",
     "output_type": "stream",
     "text": [
      "Defaulting to user installation because normal site-packages is not writeable\n",
      "Requirement already satisfied: mediapipe in c:\\users\\gnara\\appdata\\roaming\\python\\python310\\site-packages (0.10.10)\n",
      "Requirement already satisfied: absl-py in c:\\users\\gnara\\appdata\\roaming\\python\\python310\\site-packages (from mediapipe) (1.4.0)\n",
      "Requirement already satisfied: attrs>=19.1.0 in c:\\programdata\\anaconda3\\lib\\site-packages (from mediapipe) (22.1.0)\n",
      "Requirement already satisfied: flatbuffers>=2.0 in c:\\users\\gnara\\appdata\\roaming\\python\\python310\\site-packages (from mediapipe) (23.3.3)\n",
      "Requirement already satisfied: jax in c:\\users\\gnara\\appdata\\roaming\\python\\python310\\site-packages (from mediapipe) (0.4.8)\n",
      "Requirement already satisfied: matplotlib in c:\\programdata\\anaconda3\\lib\\site-packages (from mediapipe) (3.7.0)\n",
      "Requirement already satisfied: numpy in c:\\programdata\\anaconda3\\lib\\site-packages (from mediapipe) (1.23.5)\n",
      "Requirement already satisfied: opencv-contrib-python in c:\\users\\gnara\\appdata\\roaming\\python\\python310\\site-packages (from mediapipe) (4.9.0.80)\n",
      "Requirement already satisfied: protobuf<4,>=3.11 in c:\\users\\gnara\\appdata\\roaming\\python\\python310\\site-packages (from mediapipe) (3.20.3)\n",
      "Requirement already satisfied: sounddevice>=0.4.4 in c:\\users\\gnara\\appdata\\roaming\\python\\python310\\site-packages (from mediapipe) (0.4.6)\n",
      "Requirement already satisfied: CFFI>=1.0 in c:\\programdata\\anaconda3\\lib\\site-packages (from sounddevice>=0.4.4->mediapipe) (1.15.1)\n",
      "Requirement already satisfied: ml-dtypes>=0.0.3 in c:\\users\\gnara\\appdata\\roaming\\python\\python310\\site-packages (from jax->mediapipe) (0.1.0)\n",
      "Requirement already satisfied: opt-einsum in c:\\users\\gnara\\appdata\\roaming\\python\\python310\\site-packages (from jax->mediapipe) (3.3.0)\n",
      "Requirement already satisfied: scipy>=1.7 in c:\\programdata\\anaconda3\\lib\\site-packages (from jax->mediapipe) (1.10.0)\n",
      "Requirement already satisfied: contourpy>=1.0.1 in c:\\programdata\\anaconda3\\lib\\site-packages (from matplotlib->mediapipe) (1.0.5)\n",
      "Requirement already satisfied: cycler>=0.10 in c:\\programdata\\anaconda3\\lib\\site-packages (from matplotlib->mediapipe) (0.11.0)\n",
      "Requirement already satisfied: fonttools>=4.22.0 in c:\\programdata\\anaconda3\\lib\\site-packages (from matplotlib->mediapipe) (4.25.0)\n",
      "Requirement already satisfied: kiwisolver>=1.0.1 in c:\\programdata\\anaconda3\\lib\\site-packages (from matplotlib->mediapipe) (1.4.4)\n",
      "Requirement already satisfied: packaging>=20.0 in c:\\programdata\\anaconda3\\lib\\site-packages (from matplotlib->mediapipe) (22.0)\n",
      "Requirement already satisfied: pillow>=6.2.0 in c:\\programdata\\anaconda3\\lib\\site-packages (from matplotlib->mediapipe) (9.4.0)\n",
      "Requirement already satisfied: pyparsing>=2.3.1 in c:\\programdata\\anaconda3\\lib\\site-packages (from matplotlib->mediapipe) (3.0.9)\n",
      "Requirement already satisfied: python-dateutil>=2.7 in c:\\programdata\\anaconda3\\lib\\site-packages (from matplotlib->mediapipe) (2.8.2)\n",
      "Requirement already satisfied: pycparser in c:\\programdata\\anaconda3\\lib\\site-packages (from CFFI>=1.0->sounddevice>=0.4.4->mediapipe) (2.21)\n",
      "Requirement already satisfied: six>=1.5 in c:\\programdata\\anaconda3\\lib\\site-packages (from python-dateutil>=2.7->matplotlib->mediapipe) (1.16.0)\n",
      "Note: you may need to restart the kernel to use updated packages.\n"
     ]
    }
   ],
   "source": [
    "pip install mediapipe"
   ]
  },
  {
   "cell_type": "code",
   "execution_count": 3,
   "id": "55a1db31",
   "metadata": {},
   "outputs": [
    {
     "name": "stdout",
     "output_type": "stream",
     "text": [
      "Defaulting to user installation because normal site-packages is not writeable\n",
      "Requirement already satisfied: cvzone in c:\\users\\gnara\\appdata\\roaming\\python\\python310\\site-packages (1.6.1)\n",
      "Requirement already satisfied: opencv-python in c:\\users\\gnara\\appdata\\roaming\\python\\python310\\site-packages (from cvzone) (4.8.0.74)\n",
      "Requirement already satisfied: numpy in c:\\programdata\\anaconda3\\lib\\site-packages (from cvzone) (1.23.5)\n",
      "Note: you may need to restart the kernel to use updated packages.\n"
     ]
    }
   ],
   "source": [
    "pip install cvzone"
   ]
  },
  {
   "cell_type": "code",
   "execution_count": 4,
   "id": "d0eb06a3",
   "metadata": {},
   "outputs": [
    {
     "name": "stdout",
     "output_type": "stream",
     "text": [
      "Defaulting to user installation because normal site-packages is not writeableNote: you may need to restart the kernel to use updated packages.\n",
      "\n",
      "Requirement already satisfied: screeninfo in c:\\users\\gnara\\appdata\\roaming\\python\\python310\\site-packages (0.8.1)\n"
     ]
    }
   ],
   "source": [
    "pip install screeninfo\n"
   ]
  },
  {
   "cell_type": "code",
   "execution_count": 5,
   "id": "59c9c6b2",
   "metadata": {},
   "outputs": [],
   "source": [
    "# import cv2\n",
    "# from cvzone.HandTrackingModule import HandDetector\n",
    "\n",
    "# cap = cv2.VideoCapture(0)\n",
    "# detector = HandDetector(detectionCon=0.8)\n",
    "\n",
    "# while True:\n",
    "#     ret, frame = cap.read()\n",
    "#     frame = cv2.flip(frame, 1)\n",
    "\n",
    "#     # Detect hands in the frame\n",
    "#     hands, _ = detector.findHands(frame)\n",
    "\n",
    "#     if hands:\n",
    "#         # Get information about each hand\n",
    "#         for hand in hands:\n",
    "#             handType = hand['type']  # 'Left' or 'Right'\n",
    "#             fingers = detector.fingersUp(hand)\n",
    "\n",
    "#             # Print the hand type and finger count\n",
    "#             cv2.putText(frame, f\"{handType} Hand - Fingers: {sum(fingers)}\", (10, 50),\n",
    "#                         cv2.FONT_HERSHEY_SIMPLEX, 1, (0, 255, 0), 2, cv2.LINE_AA)\n",
    "\n",
    "#     cv2.imshow('Hand Tracking', frame)\n",
    "\n",
    "#     if cv2.waitKey(1) == 27:\n",
    "#         break\n",
    "\n",
    "# cap.release()\n",
    "# cv2.destroyAllWindows()\n"
   ]
  },
  {
   "cell_type": "code",
   "execution_count": null,
   "id": "bcca44b2",
   "metadata": {},
   "outputs": [],
   "source": [
    "import cv2\n",
    "from cvzone.HandTrackingModule import HandDetector\n",
    "\n",
    "cap = cv2.VideoCapture(0)\n",
    "detector = HandDetector(detectionCon=0.9)\n",
    "\n",
    "while True:\n",
    "    ret, frame = cap.read(1)\n",
    "    frame = cv2.flip(frame, 1)\n",
    "\n",
    "    # Detect hands in the frame\n",
    "    hands, _ = detector.findHands(frame)\n",
    "\n",
    "    if hands:\n",
    "        # Get information about each hand\n",
    "        for hand in hands:\n",
    "            handType = hand['type']  # 'Left' or 'Right'\n",
    "            \n",
    "            fingers = detector.fingersUp(hand)\n",
    "\n",
    "            # Print the hand type and finger count\n",
    "            cv2.putText(frame, f\"{handType} Hand - Fingers: {sum(fingers)}\", (10, 50),\n",
    "                        cv2.FONT_HERSHEY_SIMPLEX, 1, (0, 255, 0), 2, cv2.LINE_AA)\n",
    "\n",
    "    cv2.imshow('Hand Tracking', frame)\n",
    "\n",
    "    if cv2.waitKey(1) == 27:\n",
    "        break\n",
    "\n",
    "cap.release()\n",
    "cv2.destroyAllWindows()\n"
   ]
  },
  {
   "cell_type": "code",
   "execution_count": null,
   "id": "fefa2473",
   "metadata": {},
   "outputs": [],
   "source": [
    "import cv2\n",
    "from cvzone.HandTrackingModule import HandDetector\n",
    "\n",
    "cap = cv2.VideoCapture(0)\n",
    "\n",
    "# Explicitly specify the hand detection mode\n",
    "detector = HandDetector(detectionCon=0.8, maxHands=2)\n",
    "\n",
    "while True:\n",
    "    ret, frame = cap.read()\n",
    "    frame = cv2.flip(frame, 1)\n",
    "\n",
    "    # Detect hands in the frame\n",
    "    hands, _ = detector.findHands(frame)\n",
    "\n",
    "    if hands:\n",
    "        # Get information about each hand\n",
    "        for hand in hands:\n",
    "            handType = hand['type']  # 'Left' or 'Right'\n",
    "            fingers = detector.fingersUp(hand)\n",
    "\n",
    "            # Print the hand type and finger count\n",
    "            cv2.putText(frame, f\"{handType} Hand - Fingers: {sum(fingers)}\", (10, 50),\n",
    "                        cv2.FONT_HERSHEY_SIMPLEX, 1, (0, 255, 0), 2, cv2.LINE_AA)\n",
    "\n",
    "    cv2.imshow('Hand Tracking', frame)\n",
    "\n",
    "    if cv2.waitKey(1) == 27:\n",
    "        break\n",
    "\n",
    "cap.release()\n",
    "cv2.destroyAllWindows()\n"
   ]
  },
  {
   "cell_type": "code",
   "execution_count": null,
   "id": "847223a1",
   "metadata": {},
   "outputs": [],
   "source": []
  }
 ],
 "metadata": {
  "kernelspec": {
   "display_name": "Python 3 (ipykernel)",
   "language": "python",
   "name": "python3"
  },
  "language_info": {
   "codemirror_mode": {
    "name": "ipython",
    "version": 3
   },
   "file_extension": ".py",
   "mimetype": "text/x-python",
   "name": "python",
   "nbconvert_exporter": "python",
   "pygments_lexer": "ipython3",
   "version": "3.10.9"
  }
 },
 "nbformat": 4,
 "nbformat_minor": 5
}
